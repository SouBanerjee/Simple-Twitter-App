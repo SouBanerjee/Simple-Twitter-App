{
 "cells": [
  {
   "cell_type": "code",
   "execution_count": 1,
   "metadata": {},
   "outputs": [],
   "source": [
    "import tweepy #python module, to extract tweets using tweet ids from twitter\n",
    "import json"
   ]
  },
  {
   "cell_type": "code",
   "execution_count": 2,
   "metadata": {},
   "outputs": [],
   "source": [
    "#this function will be used to extract tweets from twitter using tweet ids\n",
    "#here, api points to tweepy module\n",
    "def lookup_tweets(tweet_IDs, api):\n",
    "    tweet_count = len(tweet_IDs) #counting the length of list containing tweet ids\n",
    "    try:\n",
    "        #twitter allows extraction of 100 tweets at a single request\n",
    "        for i in range(int(tweet_count / 50) + 1):\n",
    "            # Catch the last group if it is less than 100 tweets\n",
    "            end_loc = int(min((i + 1) * 50, tweet_count))\n",
    "            sub_array = tweet_IDs[i * 50 : end_loc]\n",
    "            if not sub_array: break\n",
    "            #extracting tweets and returning as a generator\n",
    "            yield api.statuses_lookup(sub_array)\n",
    "    except tweepy.TweepError as e:\n",
    "        print('Something went wrong, quitting...')\n",
    "        print('Error code : ', e, sep = '')"
   ]
  },
  {
   "cell_type": "code",
   "execution_count": 15,
   "metadata": {},
   "outputs": [],
   "source": [
    "#To get these tokens, you have to go 'https://apps.twitter.com/' and you have to create a developers account\n",
    "#then create an app and on success you will get these tokens\n",
    "\n",
    "consumer_key = 'XXXX'\n",
    "consumer_secret = 'XXXX'\n",
    "access_token = 'XXXX'\n",
    "access_token_secret = 'XXXX'"
   ]
  },
  {
   "cell_type": "code",
   "execution_count": 4,
   "metadata": {},
   "outputs": [],
   "source": [
    "auth = tweepy.OAuthHandler(consumer_key, consumer_secret) #authenticating\n",
    "auth.set_access_token(access_token, access_token_secret) #setting accession key\n",
    "\n",
    "#initializing api with time limits constraints\n",
    "api = tweepy.API(auth, wait_on_rate_limit=True, wait_on_rate_limit_notify=True) "
   ]
  },
  {
   "cell_type": "code",
   "execution_count": 10,
   "metadata": {},
   "outputs": [],
   "source": [
    "#open file containing tweet ids and store them in a list\n",
    "with open('sample.txt', 'r') as f:\n",
    "    tweet_ids = f.read().strip().split('\\n') #tweet ids to look up"
   ]
  },
  {
   "cell_type": "code",
   "execution_count": 11,
   "metadata": {},
   "outputs": [],
   "source": [
    "results = lookup_tweets(tweet_ids, api) #apply function"
   ]
  },
  {
   "cell_type": "code",
   "execution_count": 12,
   "metadata": {},
   "outputs": [],
   "source": [
    "#storing retrieved tweets in a file\n",
    "with open('test.json', 'w') as f:\n",
    "    for x in results:\n",
    "        for data in x:\n",
    "            f.writelines(json.dumps(data._json) + '\\n')"
   ]
  },
  {
   "cell_type": "code",
   "execution_count": 13,
   "metadata": {},
   "outputs": [],
   "source": [
    "#loading tweets from disk file\n",
    "with open('test.json', 'r') as f:\n",
    "    data = list()\n",
    "    for i in f.read().strip().split('\\n'):\n",
    "        data.append(json.loads(i))"
   ]
  },
  {
   "cell_type": "code",
   "execution_count": null,
   "metadata": {},
   "outputs": [],
   "source": []
  }
 ],
 "metadata": {
  "kernelspec": {
   "display_name": "Python 3",
   "language": "python",
   "name": "python3"
  },
  "language_info": {
   "codemirror_mode": {
    "name": "ipython",
    "version": 3
   },
   "file_extension": ".py",
   "mimetype": "text/x-python",
   "name": "python",
   "nbconvert_exporter": "python",
   "pygments_lexer": "ipython3",
   "version": "3.6.6"
  }
 },
 "nbformat": 4,
 "nbformat_minor": 2
}
